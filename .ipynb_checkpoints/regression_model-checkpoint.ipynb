{
 "cells": [
  {
   "cell_type": "markdown",
   "id": "43955c33-2a19-4d6a-99dd-4d9fe9736e50",
   "metadata": {},
   "source": [
    "## Linear Regression Model using Statsmodels"
   ]
  },
  {
   "cell_type": "code",
   "execution_count": 1,
   "id": "cac9e20d-8494-484e-a9b6-b7a644f951c0",
   "metadata": {},
   "outputs": [],
   "source": [
    "import pandas as pd\n",
    "import statsmodels.api as sm"
   ]
  },
  {
   "cell_type": "code",
   "execution_count": 10,
   "id": "14c68bb0-f123-42a9-bf45-e8385d9d5fbb",
   "metadata": {},
   "outputs": [],
   "source": [
    "# Load cleaned data\n",
    "df = pd.read_csv('data/data_clean.csv')"
   ]
  },
  {
   "cell_type": "code",
   "execution_count": 11,
   "id": "5cded86b-cd77-422d-995c-9878634c3693",
   "metadata": {},
   "outputs": [
    {
     "name": "stdout",
     "output_type": "stream",
     "text": [
      "                                         OLS Regression Results                                        \n",
      "=======================================================================================================\n",
      "Dep. Variable:     Subjective well-being average score Average   R-squared:                       0.065\n",
      "Model:                                                     OLS   Adj. R-squared:                  0.046\n",
      "Method:                                          Least Squares   F-statistic:                     3.525\n",
      "Date:                                         Tue, 09 Jan 2024   Prob (F-statistic):           4.47e-05\n",
      "Time:                                                 23:32:16   Log-Likelihood:                -865.95\n",
      "No. Observations:                                          625   AIC:                             1758.\n",
      "Df Residuals:                                              612   BIC:                             1816.\n",
      "Df Model:                                                   12                                         \n",
      "Covariance Type:                                     nonrobust                                         \n",
      "===================================================================================================================\n",
      "                                                      coef    std err          t      P>|t|      [0.025      0.975]\n",
      "-------------------------------------------------------------------------------------------------------------------\n",
      "const                                            1.449e-15      0.039   3.71e-14      1.000      -0.077       0.077\n",
      "Life Expectancy 2009-13                            -0.1170      0.055     -2.137      0.033      -0.225      -0.009\n",
      "Childhood Obesity Average                           0.0215      0.061      0.353      0.724      -0.098       0.141\n",
      "Incapacity Benefit rate Average                    -0.0047      0.068     -0.069      0.945      -0.139       0.129\n",
      "Unemployment rate Average                          -0.2539      0.076     -3.351      0.001      -0.403      -0.105\n",
      "Crime rate Average                                 -0.0397      0.051     -0.777      0.437      -0.140       0.061\n",
      "Deliberate Fires Average                            0.0624      0.052      1.207      0.228      -0.039       0.164\n",
      "GCSE point scores Average                           0.1231      0.068      1.802      0.072      -0.011       0.257\n",
      "Unauthorised Absence in All Schools (%) Average     0.0706      0.066      1.077      0.282      -0.058       0.199\n",
      "Public Transport Accessibility Average             -0.0171      0.060     -0.285      0.776      -0.135       0.101\n",
      "population_per_hectare                              0.2662      0.065      4.067      0.000       0.138       0.395\n",
      "homes_good_access_nature                            0.0403      0.042      0.964      0.335      -0.042       0.122\n",
      "travel_work_bicycle                                -0.1406      0.052     -2.722      0.007      -0.242      -0.039\n",
      "==============================================================================\n",
      "Omnibus:                        5.609   Durbin-Watson:                   1.583\n",
      "Prob(Omnibus):                  0.061   Jarque-Bera (JB):                3.963\n",
      "Skew:                           0.003   Prob(JB):                        0.138\n",
      "Kurtosis:                       2.610   Cond. No.                         5.37\n",
      "==============================================================================\n",
      "\n",
      "Notes:\n",
      "[1] Standard Errors assume that the covariance matrix of the errors is correctly specified.\n"
     ]
    }
   ],
   "source": [
    "# Define the independent and dependent variables\n",
    "X = df.drop(columns=['ward_code', 'Ward', 'Subjective well-being average score Average'])\n",
    "\n",
    "y = df['Subjective well-being average score Average']\n",
    "\n",
    "# Add a constant column to the independent variables\n",
    "X = sm.add_constant(X)\n",
    "\n",
    "# create the regression model and fit it\n",
    "model = sm.OLS(y, X).fit()\n",
    "\n",
    "model_summary = model.summary()\n",
    "print(model_summary)"
   ]
  },
  {
   "cell_type": "code",
   "execution_count": 12,
   "id": "54512386-e9ee-47af-a1c8-5c5f5c234249",
   "metadata": {},
   "outputs": [
    {
     "name": "stdout",
     "output_type": "stream",
     "text": [
      "Life Expectancy 2009-13 -0.11703666763113421\n",
      "Unemployment rate Average -0.25391565533775873\n",
      "population_per_hectare 0.26620865346379824\n",
      "travel_work_bicycle -0.14056941411305016\n"
     ]
    },
    {
     "name": "stderr",
     "output_type": "stream",
     "text": [
      "/tmp/ipykernel_41703/3138578312.py:3: FutureWarning: Series.__getitem__ treating keys as positions is deprecated. In a future version, integer keys will always be treated as labels (consistent with DataFrame behavior). To access a value by position, use `ser.iloc[pos]`\n",
      "  if model.pvalues[i] < 0.05:\n",
      "/tmp/ipykernel_41703/3138578312.py:4: FutureWarning: Series.__getitem__ treating keys as positions is deprecated. In a future version, integer keys will always be treated as labels (consistent with DataFrame behavior). To access a value by position, use `ser.iloc[pos]`\n",
      "  print(model.params.index[i], model.params[i])\n"
     ]
    }
   ],
   "source": [
    "# Print all the coefficients of the model, with their names, only if their p-value is less than 0.05\n",
    "for i in range(len(model.pvalues)):\n",
    "    if model.pvalues[i] < 0.05:\n",
    "        print(model.params.index[i], model.params[i])"
   ]
  },
  {
   "cell_type": "code",
   "execution_count": 13,
   "id": "798a9f2b-a88c-4f01-8e7d-bb2ce9a3ad0a",
   "metadata": {},
   "outputs": [
    {
     "name": "stdout",
     "output_type": "stream",
     "text": [
      "                                         OLS Regression Results                                        \n",
      "=======================================================================================================\n",
      "Dep. Variable:     Subjective well-being average score Average   R-squared:                       0.054\n",
      "Model:                                                     OLS   Adj. R-squared:                  0.048\n",
      "Method:                                          Least Squares   F-statistic:                     8.874\n",
      "Date:                                         Tue, 09 Jan 2024   Prob (F-statistic):           5.68e-07\n",
      "Time:                                                 23:32:55   Log-Likelihood:                -869.44\n",
      "No. Observations:                                          625   AIC:                             1749.\n",
      "Df Residuals:                                              620   BIC:                             1771.\n",
      "Df Model:                                                    4                                         \n",
      "Covariance Type:                                     nonrobust                                         \n",
      "=============================================================================================\n",
      "                                coef    std err          t      P>|t|      [0.025      0.975]\n",
      "---------------------------------------------------------------------------------------------\n",
      "const                      1.449e-15      0.039   3.71e-14      1.000      -0.077       0.077\n",
      "Life Expectancy 2009-13      -0.1158      0.050     -2.313      0.021      -0.214      -0.017\n",
      "Unemployment rate Average    -0.2645      0.054     -4.906      0.000      -0.370      -0.159\n",
      "population_per_hectare        0.2288      0.051      4.476      0.000       0.128       0.329\n",
      "travel_work_bicycle          -0.1643      0.047     -3.474      0.001      -0.257      -0.071\n",
      "==============================================================================\n",
      "Omnibus:                        8.907   Durbin-Watson:                   1.561\n",
      "Prob(Omnibus):                  0.012   Jarque-Bera (JB):                5.585\n",
      "Skew:                           0.011   Prob(JB):                       0.0613\n",
      "Kurtosis:                       2.537   Cond. No.                         2.62\n",
      "==============================================================================\n",
      "\n",
      "Notes:\n",
      "[1] Standard Errors assume that the covariance matrix of the errors is correctly specified.\n"
     ]
    }
   ],
   "source": [
    "# refit model using variables whose p-value less than 0.05\n",
    "columns=['Life Expectancy 2009-13', 'Unemployment rate Average', 'population_per_hectare', 'travel_work_bicycle', 'Subjective well-being average score Average']\n",
    "df_0 = df[columns]\n",
    "\n",
    "# Define the independent and dependent variables\n",
    "X0 = df_0.drop(columns=['Subjective well-being average score Average'])\n",
    "\n",
    "y0 = df_0['Subjective well-being average score Average']\n",
    "\n",
    "# Add a constant column to the independent variables\n",
    "X0 = sm.add_constant(X0)\n",
    "\n",
    "# create the regression model and fit it\n",
    "model0 = sm.OLS(y0, X0).fit()\n",
    "\n",
    "\n",
    "model_summary_0 = model0.summary()\n",
    "print(model_summary_0)"
   ]
  }
 ],
 "metadata": {
  "kernelspec": {
   "display_name": "Python 3 (ipykernel)",
   "language": "python",
   "name": "python3"
  },
  "language_info": {
   "codemirror_mode": {
    "name": "ipython",
    "version": 3
   },
   "file_extension": ".py",
   "mimetype": "text/x-python",
   "name": "python",
   "nbconvert_exporter": "python",
   "pygments_lexer": "ipython3",
   "version": "3.11.5"
  }
 },
 "nbformat": 4,
 "nbformat_minor": 5
}
